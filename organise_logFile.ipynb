{
 "metadata": {
  "language_info": {
   "codemirror_mode": {
    "name": "ipython",
    "version": 3
   },
   "file_extension": ".py",
   "mimetype": "text/x-python",
   "name": "python",
   "nbconvert_exporter": "python",
   "pygments_lexer": "ipython3",
   "version": "3.8.2-final"
  },
  "orig_nbformat": 2,
  "kernelspec": {
   "name": "python38232bit66fc69d2ff5d4cf5b057097153f28700",
   "display_name": "Python 3.8.2 32-bit"
  }
 },
 "nbformat": 4,
 "nbformat_minor": 2,
 "cells": [
  {
   "cell_type": "markdown",
   "metadata": {},
   "source": [
    "# VISCACHA LOGFILE\n",
    "### Pandas, CSV, glob, os"
   ]
  },
  {
   "cell_type": "code",
   "execution_count": 1,
   "metadata": {
    "tags": []
   },
   "outputs": [
    {
     "output_type": "stream",
     "name": "stdout",
     "text": "Libraries: imported.\n"
    }
   ],
   "source": [
    "import csv, glob, os, pandas\n",
    "from csv import reader\n",
    "print('Libraries: imported.')"
   ]
  },
  {
   "cell_type": "markdown",
   "metadata": {},
   "source": [
    "### Path to sample logfile"
   ]
  },
  {
   "cell_type": "code",
   "execution_count": 2,
   "metadata": {},
   "outputs": [
    {
     "output_type": "execute_result",
     "data": {
      "text/plain": "'C:\\\\Users\\\\Marco\\\\Documents\\\\VS_code\\\\viscachaReports\\\\*.csv'"
     },
     "metadata": {},
     "execution_count": 2
    }
   ],
   "source": [
    "path2csv = r'C:\\Users\\Marco\\Documents\\VS_code\\viscachaReports\\*.csv'\n",
    "path2csv"
   ]
  },
  {
   "cell_type": "markdown",
   "metadata": {},
   "source": [
    "### Start the Loop through all the logfiles"
   ]
  },
  {
   "cell_type": "code",
   "execution_count": 3,
   "metadata": {
    "tags": []
   },
   "outputs": [
    {
     "output_type": "stream",
     "name": "stdout",
     "text": "\nFILE NAME: 20200807_0941.csv \n\n"
    }
   ],
   "source": [
    "for report in glob.glob(path2csv):\n",
    "    print('\\nFILE NAME: {} \\n'.format(os.path.basename(report)))"
   ]
  },
  {
   "cell_type": "markdown",
   "metadata": {},
   "source": [
    "### Open the file and store CONDITION and PARTICIPANT name"
   ]
  },
  {
   "cell_type": "code",
   "execution_count": 4,
   "metadata": {
    "tags": []
   },
   "outputs": [
    {
     "output_type": "stream",
     "name": "stdout",
     "text": "REPORT (first few lines)\n\n['Start of experiment, 20200807_0941']\n['Source file name: shape_dots.txt']\n['Screen resolution h: 1920']\n['Screen resolution v: 1080']\n['Diagonal inch: 27,0']\n['Horizontal angle: 38,88']\n['Screen height mm: 336,2211581400089']\n['Screen width mm: 597,7265033600158']\n['Distance mm: 846,7808531627567']\n['Pixel to angle multiplier: 0,02025']\n['Patient name: sample_test']\n['Data loaded, variable PARAM = Field_Scale21']\n['Experiment type = Staircase']\n['Dots/sr (S+ background layer): 9501,973933863635']\n['Dots/angular deg^2 (S+ background layer): 2,894491299733541']\n['Dot size angular deg^2 (S+ background layer): 0,10125']\n['Dots/sr (S- background layer): 9501,973933863635']\n['Dots/angular deg^2 (S- background layer): 2,894491299733541']\n['Dot size angular deg^2 (S- background layer): 0,10125']\n['Dots/sr (S+ shape layer): 9501,973933863635']\n"
    }
   ],
   "source": [
    "    open_file = open(report)\n",
    "    read_file = reader(open_file, delimiter='\\t')\n",
    "    report = list(read_file)\n",
    "    print('REPORT (first few lines)\\n')\n",
    "    for line in report[:20]:\n",
    "        print(line)"
   ]
  },
  {
   "cell_type": "code",
   "execution_count": 5,
   "metadata": {},
   "outputs": [
    {
     "output_type": "execute_result",
     "data": {
      "text/plain": "(['shape_dots.txt'], ['sample_test'])"
     },
     "metadata": {},
     "execution_count": 5
    }
   ],
   "source": [
    "condition_name = [line[18:] for line in report[1]]\n",
    "participant_name = [line[14:] for line in report[10]]\n",
    "condition_name, participant_name"
   ]
  },
  {
   "cell_type": "markdown",
   "metadata": {},
   "source": [
    "### Select the answers block to check trials, using KEY WORDS from lines. Store the Header"
   ]
  },
  {
   "cell_type": "code",
   "execution_count": 6,
   "metadata": {
    "tags": []
   },
   "outputs": [
    {
     "output_type": "stream",
     "name": "stdout",
     "text": "Start block at line [32]\n"
    },
    {
     "output_type": "execute_result",
     "data": {
      "text/plain": "[['169,154;Screen change'],\n ['169,667;Trial display'],\n ['173,085;Right chosen'],\n ['173,417;Trial summary;1;3,749;r;r;1;;;0;0,8'],\n ['173,421;Screen change'],\n ['173,932;Trial display'],\n ['176,785;Right chosen'],\n ['177,128;Trial summary;2;3,196;r;r;1;;;0;0,7272727272727273'],\n ['177,13;Screen change'],\n ['177,637;Trial display']]"
     },
     "metadata": {},
     "execution_count": 6
    }
   ],
   "source": [
    "indexLine_startBlock = [report.index(line) for line in report for cell in line if 'Event time' in cell]\n",
    "answer_block = report[int(indexLine_startBlock[0])+1:]\n",
    "\n",
    "print('Start block at line {}'.format(indexLine_startBlock))\n",
    "answer_block[:10]"
   ]
  },
  {
   "cell_type": "code",
   "execution_count": 7,
   "metadata": {
    "tags": []
   },
   "outputs": [
    {
     "output_type": "stream",
     "name": "stdout",
     "text": "Header: ['Event time', 'Event type', 'Trial', 'Duration', 'Selection', 'Correct', 'Success', 'Experimentator', 'External Stimuli', 'Reversal', 'Staircase level'].\n"
    }
   ],
   "source": [
    "header = str(report[indexLine_startBlock[0]][0]).split(';')\n",
    "print('Header: {}.'.format(header))"
   ]
  },
  {
   "cell_type": "markdown",
   "metadata": {},
   "source": [
    "### From the answers block we know that some lines store summary information. Let's store only those lines."
   ]
  },
  {
   "cell_type": "code",
   "execution_count": 8,
   "metadata": {
    "tags": []
   },
   "outputs": [
    {
     "output_type": "stream",
     "name": "stdout",
     "text": "Few trial summaries: \n\n['Event time', 'Event type', 'Trial', 'Duration', 'Selection', 'Correct', 'Success', 'Experimentator', 'External Stimuli', 'Reversal', 'Staircase level']\n['173,417', 'Trial summary', '1', '3,749', 'r', 'r', '1', '', '', '0', '0,8']\n['177,128', 'Trial summary', '2', '3,196', 'r', 'r', '1', '', '', '0', '0,7272727272727273']\n['180,017', 'Trial summary', '3', '2,381', 'l', 'l', '1', '', '', '0', '0,6611570247933884']\n['183,007', 'Trial summary', '4', '2,48', 'r', 'r', '1', '', '', '0', '0,6010518407212622']\n['187,364', 'Trial summary', '5', '3,843', 'l', 'l', '1', '', '', '0', '0,5464107642920565']\n['190,665', 'Trial summary', '6', '2,787', 'l', 'l', '1', '', '', '0', '0,496737058447324']\n['193,462', 'Trial summary', '7', '2,286', 'l', 'l', '1', '', '', '0', '0,4515791440430218']\n['196,51', 'Trial summary', '8', '2,532', 'r', 'r', '1', '', '', '0', '0,41052649458456525']\n['200,767', 'Trial summary', '9', '3,747', 'r', 'r', '1', '', '', '0', '0,37320590416778654']\n"
    }
   ],
   "source": [
    "responses = [line for line in answer_block for cell in line if 'Trial summary' in cell]\n",
    "responses = [cell.split(';') for line in responses for cell in line]\n",
    "responses.insert(0, header)\n",
    "print('Few trial summaries: \\n')\n",
    "for line in responses[:10]:\n",
    "    print(line)\n"
   ]
  },
  {
   "cell_type": "markdown",
   "metadata": {},
   "source": [
    "### To much useless values. Slice out from Experimentator"
   ]
  },
  {
   "cell_type": "code",
   "execution_count": 9,
   "metadata": {
    "tags": []
   },
   "outputs": [
    {
     "output_type": "stream",
     "name": "stdout",
     "text": "Final responses block:\n\n['Event time', 'Event type', 'Trial', 'Duration', 'Selection', 'Correct', 'Success']\n['173,417', 'Trial summary', '1', '3,749', 'r', 'r', '1']\n['177,128', 'Trial summary', '2', '3,196', 'r', 'r', '1']\n['180,017', 'Trial summary', '3', '2,381', 'l', 'l', '1']\n['183,007', 'Trial summary', '4', '2,48', 'r', 'r', '1']\n['187,364', 'Trial summary', '5', '3,843', 'l', 'l', '1']\n['190,665', 'Trial summary', '6', '2,787', 'l', 'l', '1']\n['193,462', 'Trial summary', '7', '2,286', 'l', 'l', '1']\n['196,51', 'Trial summary', '8', '2,532', 'r', 'r', '1']\n['200,767', 'Trial summary', '9', '3,747', 'r', 'r', '1']\n['203,916', 'Trial summary', '10', '2,635', 'r', 'r', '1']\n['208,377', 'Trial summary', '11', '3,948', 'l', 'l', '1']\n['212,331', 'Trial summary', '12', '3,442', 'l', 'l', '1']\n['216,391', 'Trial summary', '13', '3,548', 'r', 'r', '1']\n['218,88', 'Trial summary', '14', '1,981', 'l', 'r', '0']\n['222,635', 'Trial summary', '15', '3,243', 'l', 'l', '1']\n['227,04', 'Trial summary', '16', '3,896', 'r', 'r', '1']\n['230,388', 'Trial summary', '17', '2,839', 'r', 'r', '1']\n['234,151', 'Trial summary', '18', '3,245', 'l', 'l', '1']\n['237,547', 'Trial summary', '19', '2,884', 'l', 'l', '1']\n['242,522', 'Trial summary', '20', '4,457', 'r', 'r', '1']\n['247,586', 'Trial summary', '21', '4,555', 'r', 'l', '0']\n['254,066', 'Trial summary', '22', '5,969', 'r', 'l', '0']\n['260,043', 'Trial summary', '23', '5,464', 'r', 'r', '1']\n"
    }
   ],
   "source": [
    "responses = [cells[:7] for cells in responses]\n",
    "print('Final responses block:\\n')\n",
    "for line in responses:\n",
    "    print(line)"
   ]
  },
  {
   "cell_type": "markdown",
   "metadata": {},
   "source": [
    "## Now we are ready to store data into Pandas DataFrame and save it in a excel file."
   ]
  },
  {
   "cell_type": "code",
   "execution_count": 10,
   "metadata": {},
   "outputs": [],
   "source": [
    "data2csv = pandas.DataFrame(responses[1:])"
   ]
  },
  {
   "cell_type": "markdown",
   "metadata": {},
   "source": [
    "### Set the header as columns name"
   ]
  },
  {
   "cell_type": "code",
   "execution_count": 11,
   "metadata": {},
   "outputs": [
    {
     "output_type": "execute_result",
     "data": {
      "text/plain": "         Onset       Condition Duration Selection Correct Success\nTrial                                                            \n1      173,417  shape_dots.txt    3,749         r       r       1\n2      177,128  shape_dots.txt    3,196         r       r       1\n3      180,017  shape_dots.txt    2,381         l       l       1\n4      183,007  shape_dots.txt     2,48         r       r       1\n5      187,364  shape_dots.txt    3,843         l       l       1",
      "text/html": "<div>\n<style scoped>\n    .dataframe tbody tr th:only-of-type {\n        vertical-align: middle;\n    }\n\n    .dataframe tbody tr th {\n        vertical-align: top;\n    }\n\n    .dataframe thead th {\n        text-align: right;\n    }\n</style>\n<table border=\"1\" class=\"dataframe\">\n  <thead>\n    <tr style=\"text-align: right;\">\n      <th></th>\n      <th>Onset</th>\n      <th>Condition</th>\n      <th>Duration</th>\n      <th>Selection</th>\n      <th>Correct</th>\n      <th>Success</th>\n    </tr>\n    <tr>\n      <th>Trial</th>\n      <th></th>\n      <th></th>\n      <th></th>\n      <th></th>\n      <th></th>\n      <th></th>\n    </tr>\n  </thead>\n  <tbody>\n    <tr>\n      <th>1</th>\n      <td>173,417</td>\n      <td>shape_dots.txt</td>\n      <td>3,749</td>\n      <td>r</td>\n      <td>r</td>\n      <td>1</td>\n    </tr>\n    <tr>\n      <th>2</th>\n      <td>177,128</td>\n      <td>shape_dots.txt</td>\n      <td>3,196</td>\n      <td>r</td>\n      <td>r</td>\n      <td>1</td>\n    </tr>\n    <tr>\n      <th>3</th>\n      <td>180,017</td>\n      <td>shape_dots.txt</td>\n      <td>2,381</td>\n      <td>l</td>\n      <td>l</td>\n      <td>1</td>\n    </tr>\n    <tr>\n      <th>4</th>\n      <td>183,007</td>\n      <td>shape_dots.txt</td>\n      <td>2,48</td>\n      <td>r</td>\n      <td>r</td>\n      <td>1</td>\n    </tr>\n    <tr>\n      <th>5</th>\n      <td>187,364</td>\n      <td>shape_dots.txt</td>\n      <td>3,843</td>\n      <td>l</td>\n      <td>l</td>\n      <td>1</td>\n    </tr>\n  </tbody>\n</table>\n</div>"
     },
     "metadata": {},
     "execution_count": 11
    }
   ],
   "source": [
    "data2csv.columns = responses[0]\n",
    "data2csv = data2csv.set_index('Trial').rename(columns={'Event type':'Condition', 'Event time':'Onset'}).replace({'Trial summary': condition_name})\n",
    "data2csv.head()"
   ]
  },
  {
   "cell_type": "markdown",
   "metadata": {},
   "source": [
    "### Change comma separated decimals with dots and convert into float"
   ]
  },
  {
   "cell_type": "code",
   "execution_count": 12,
   "metadata": {},
   "outputs": [
    {
     "output_type": "execute_result",
     "data": {
      "text/plain": "            Condition    Onset  Duration Selection Correct Success\nTrial                                                             \n1      shape_dots.txt  173.417     3.749         r       r       1\n2      shape_dots.txt  177.128     3.196         r       r       1\n3      shape_dots.txt  180.017     2.381         l       l       1\n4      shape_dots.txt  183.007     2.480         r       r       1\n5      shape_dots.txt  187.364     3.843         l       l       1",
      "text/html": "<div>\n<style scoped>\n    .dataframe tbody tr th:only-of-type {\n        vertical-align: middle;\n    }\n\n    .dataframe tbody tr th {\n        vertical-align: top;\n    }\n\n    .dataframe thead th {\n        text-align: right;\n    }\n</style>\n<table border=\"1\" class=\"dataframe\">\n  <thead>\n    <tr style=\"text-align: right;\">\n      <th></th>\n      <th>Condition</th>\n      <th>Onset</th>\n      <th>Duration</th>\n      <th>Selection</th>\n      <th>Correct</th>\n      <th>Success</th>\n    </tr>\n    <tr>\n      <th>Trial</th>\n      <th></th>\n      <th></th>\n      <th></th>\n      <th></th>\n      <th></th>\n      <th></th>\n    </tr>\n  </thead>\n  <tbody>\n    <tr>\n      <th>1</th>\n      <td>shape_dots.txt</td>\n      <td>173.417</td>\n      <td>3.749</td>\n      <td>r</td>\n      <td>r</td>\n      <td>1</td>\n    </tr>\n    <tr>\n      <th>2</th>\n      <td>shape_dots.txt</td>\n      <td>177.128</td>\n      <td>3.196</td>\n      <td>r</td>\n      <td>r</td>\n      <td>1</td>\n    </tr>\n    <tr>\n      <th>3</th>\n      <td>shape_dots.txt</td>\n      <td>180.017</td>\n      <td>2.381</td>\n      <td>l</td>\n      <td>l</td>\n      <td>1</td>\n    </tr>\n    <tr>\n      <th>4</th>\n      <td>shape_dots.txt</td>\n      <td>183.007</td>\n      <td>2.480</td>\n      <td>r</td>\n      <td>r</td>\n      <td>1</td>\n    </tr>\n    <tr>\n      <th>5</th>\n      <td>shape_dots.txt</td>\n      <td>187.364</td>\n      <td>3.843</td>\n      <td>l</td>\n      <td>l</td>\n      <td>1</td>\n    </tr>\n  </tbody>\n</table>\n</div>"
     },
     "metadata": {},
     "execution_count": 12
    }
   ],
   "source": [
    "data2csv['Onset'] = data2csv['Onset'].apply(lambda x: float(x.split()[0].replace(',','.')))\n",
    "data2csv['Duration'] = data2csv['Duration'].apply(lambda x: float(x.split()[0].replace(',','.')))\n",
    "data2csv = data2csv[['Condition', 'Onset', 'Duration', 'Selection', 'Correct', 'Success']]\n",
    "data2csv.head()"
   ]
  },
  {
   "cell_type": "markdown",
   "metadata": {},
   "source": [
    "### Explore Duration and Success"
   ]
  },
  {
   "cell_type": "code",
   "execution_count": 13,
   "metadata": {},
   "outputs": [
    {
     "output_type": "execute_result",
     "data": {
      "text/plain": "count    23.000000\nmean      3.439435\nstd       0.995645\nmin       1.981000\n25%       2.711000\n50%       3.245000\n75%       3.869500\nmax       5.969000\nName: Duration, dtype: float64"
     },
     "metadata": {},
     "execution_count": 13
    }
   ],
   "source": [
    "data2csv['Duration'].describe()"
   ]
  },
  {
   "cell_type": "code",
   "execution_count": 14,
   "metadata": {},
   "outputs": [
    {
     "output_type": "execute_result",
     "data": {
      "text/plain": "count     23\nunique     2\ntop        1\nfreq      20\nName: Success, dtype: object"
     },
     "metadata": {},
     "execution_count": 14
    }
   ],
   "source": [
    "data2csv['Success'].describe()"
   ]
  },
  {
   "cell_type": "markdown",
   "metadata": {},
   "source": [
    "### Save the DataFrame in Excel"
   ]
  },
  {
   "cell_type": "code",
   "execution_count": 15,
   "metadata": {
    "tags": []
   },
   "outputs": [
    {
     "output_type": "stream",
     "name": "stdout",
     "text": "SAVED\n"
    }
   ],
   "source": [
    "data2csv.to_excel(r'C:\\Users\\Marco\\Documents\\VS_code\\viscachaReports\\_' +participant_name[0]+'_'+condition_name[0]+'.xlsx')\n",
    "print('SAVED')"
   ]
  },
  {
   "cell_type": "code",
   "execution_count": null,
   "metadata": {},
   "outputs": [],
   "source": []
  }
 ]
}